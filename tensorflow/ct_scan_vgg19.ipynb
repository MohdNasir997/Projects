{
  "cells": [
    {
      "cell_type": "code",
      "execution_count": 6,
      "metadata": {
        "id": "ixYQKnFG8DRf"
      },
      "outputs": [],
      "source": [
        "import numpy as np\n",
        "import pandas as pd\n",
        "import tensorflow as tf\n",
        "from tensorflow import keras\n",
        "from keras.preprocessing.image import ImageDataGenerator\n",
        "from keras.utils import image_dataset_from_directory\n",
        "from tensorflow.keras.layers import InputLayer, BatchNormalization, Dropout, Flatten, Dense, Activation, MaxPool2D, Conv2D\n"
      ]
    },
    {
      "cell_type": "code",
      "execution_count": 8,
      "metadata": {
        "id": "yYJxJNyR8jyg"
      },
      "outputs": [],
      "source": [
        "import zipfile\n",
        "with zipfile.ZipFile('chest-ctscan-images.zip','r') as zip_ref:\n",
        "  zip_ref.extractall('chest-ctscan-images')"
      ]
    },
    {
      "cell_type": "code",
      "execution_count": 9,
      "metadata": {
        "id": "wFZ6PXe89duA"
      },
      "outputs": [],
      "source": [
        "train_data = ImageDataGenerator(rescale=1./255,validation_split=0.2,rotation_range=5,width_shift_range=0.2,height_shift_range=0.2,horizontal_flip=True,vertical_flip=True,fill_mode='nearest')\n",
        "validation_data = ImageDataGenerator(rescale= 1./255,validation_split=0.2)\n",
        "test_data = ImageDataGenerator(rescale=1./255)"
      ]
    },
    {
      "cell_type": "code",
      "execution_count": 10,
      "metadata": {
        "colab": {
          "base_uri": "https://localhost:8080/"
        },
        "id": "8ZN3Ix1I98vp",
        "outputId": "b990ac32-ff7f-4f8b-c21c-2f8c653732b5"
      },
      "outputs": [
        {
          "name": "stdout",
          "output_type": "stream",
          "text": [
            "Found 613 images belonging to 4 classes.\n"
          ]
        }
      ],
      "source": [
        "train_dataset = train_data.flow_from_directory(directory='/content/chest-ctscan-images/Data/train',target_size=(224,224),class_mode='categorical',batch_size=64)"
      ]
    },
    {
      "cell_type": "code",
      "execution_count": 13,
      "metadata": {
        "colab": {
          "base_uri": "https://localhost:8080/"
        },
        "id": "NUJQbRkC-Hxt",
        "outputId": "c0cf79ab-41f5-4ae3-d15b-942164bdef4e"
      },
      "outputs": [
        {
          "name": "stdout",
          "output_type": "stream",
          "text": [
            "Found 315 images belonging to 4 classes.\n"
          ]
        }
      ],
      "source": [
        "test_dataset = test_data.flow_from_directory(directory='/content/chest-ctscan-images/Data/test',target_size=(224,224),class_mode='categorical',batch_size=64)"
      ]
    },
    {
      "cell_type": "code",
      "execution_count": 14,
      "metadata": {
        "colab": {
          "base_uri": "https://localhost:8080/"
        },
        "id": "wTQvRErKL7FW",
        "outputId": "0c8b8f0d-3f56-4c51-a196-744c48941137"
      },
      "outputs": [
        {
          "name": "stdout",
          "output_type": "stream",
          "text": [
            "Found 72 images belonging to 4 classes.\n"
          ]
        }
      ],
      "source": [
        "valid_dataset = validation_data.flow_from_directory(directory='/content/chest-ctscan-images/Data/valid',target_size=(224,224),class_mode='categorical',batch_size=64)"
      ]
    },
    {
      "cell_type": "code",
      "execution_count": 15,
      "metadata": {
        "colab": {
          "base_uri": "https://localhost:8080/"
        },
        "id": "gY-lF6C4MFtD",
        "outputId": "06ebd45d-1aa7-4102-c88b-c6bf589a1abc"
      },
      "outputs": [
        {
          "name": "stdout",
          "output_type": "stream",
          "text": [
            "Downloading data from https://storage.googleapis.com/tensorflow/keras-applications/vgg19/vgg19_weights_tf_dim_ordering_tf_kernels_notop.h5\n",
            "80134624/80134624 [==============================] - 0s 0us/step\n"
          ]
        }
      ],
      "source": [
        "from keras.applications import VGG19\n",
        "vgg = VGG19(input_shape = (224,224,3),include_top = False,weights=\"imagenet\")\n"
      ]
    },
    {
      "cell_type": "code",
      "execution_count": 27,
      "metadata": {
        "id": "JcGrEIbnMLEA"
      },
      "outputs": [],
      "source": [
        "for layer in vgg.layers:\n",
        " vgg.trainable = False"
      ]
    },
    {
      "cell_type": "code",
      "execution_count": 29,
      "metadata": {
        "id": "_p3uc_ORMnw6"
      },
      "outputs": [],
      "source": [
        "x = Flatten()(vgg.output)\n",
        "pred= Dense(4,activation='softmax')(x)\n",
        "model = keras.models.Model(inputs= vgg.input,outputs = pred)"
      ]
    },
    {
      "cell_type": "code",
      "execution_count": 30,
      "metadata": {
        "colab": {
          "base_uri": "https://localhost:8080/"
        },
        "id": "WbzmMyvIMrfO",
        "outputId": "d6ba7dea-b3a8-4b48-8d03-b6e131cb9460"
      },
      "outputs": [
        {
          "name": "stdout",
          "output_type": "stream",
          "text": [
            "Model: \"model\"\n",
            "_________________________________________________________________\n",
            " Layer (type)                Output Shape              Param #   \n",
            "=================================================================\n",
            " input_1 (InputLayer)        [(None, 224, 224, 3)]     0         \n",
            "                                                                 \n",
            " block1_conv1 (Conv2D)       (None, 224, 224, 64)      1792      \n",
            "                                                                 \n",
            " block1_conv2 (Conv2D)       (None, 224, 224, 64)      36928     \n",
            "                                                                 \n",
            " block1_pool (MaxPooling2D)  (None, 112, 112, 64)      0         \n",
            "                                                                 \n",
            " block2_conv1 (Conv2D)       (None, 112, 112, 128)     73856     \n",
            "                                                                 \n",
            " block2_conv2 (Conv2D)       (None, 112, 112, 128)     147584    \n",
            "                                                                 \n",
            " block2_pool (MaxPooling2D)  (None, 56, 56, 128)       0         \n",
            "                                                                 \n",
            " block3_conv1 (Conv2D)       (None, 56, 56, 256)       295168    \n",
            "                                                                 \n",
            " block3_conv2 (Conv2D)       (None, 56, 56, 256)       590080    \n",
            "                                                                 \n",
            " block3_conv3 (Conv2D)       (None, 56, 56, 256)       590080    \n",
            "                                                                 \n",
            " block3_conv4 (Conv2D)       (None, 56, 56, 256)       590080    \n",
            "                                                                 \n",
            " block3_pool (MaxPooling2D)  (None, 28, 28, 256)       0         \n",
            "                                                                 \n",
            " block4_conv1 (Conv2D)       (None, 28, 28, 512)       1180160   \n",
            "                                                                 \n",
            " block4_conv2 (Conv2D)       (None, 28, 28, 512)       2359808   \n",
            "                                                                 \n",
            " block4_conv3 (Conv2D)       (None, 28, 28, 512)       2359808   \n",
            "                                                                 \n",
            " block4_conv4 (Conv2D)       (None, 28, 28, 512)       2359808   \n",
            "                                                                 \n",
            " block4_pool (MaxPooling2D)  (None, 14, 14, 512)       0         \n",
            "                                                                 \n",
            " block5_conv1 (Conv2D)       (None, 14, 14, 512)       2359808   \n",
            "                                                                 \n",
            " block5_conv2 (Conv2D)       (None, 14, 14, 512)       2359808   \n",
            "                                                                 \n",
            " block5_conv3 (Conv2D)       (None, 14, 14, 512)       2359808   \n",
            "                                                                 \n",
            " block5_conv4 (Conv2D)       (None, 14, 14, 512)       2359808   \n",
            "                                                                 \n",
            " block5_pool (MaxPooling2D)  (None, 7, 7, 512)         0         \n",
            "                                                                 \n",
            " flatten_3 (Flatten)         (None, 25088)             0         \n",
            "                                                                 \n",
            " dense_9 (Dense)             (None, 4)                 100356    \n",
            "                                                                 \n",
            "=================================================================\n",
            "Total params: 20,124,740\n",
            "Trainable params: 100,356\n",
            "Non-trainable params: 20,024,384\n",
            "_________________________________________________________________\n"
          ]
        }
      ],
      "source": [
        "model.summary()"
      ]
    },
    {
      "cell_type": "code",
      "execution_count": 31,
      "metadata": {
        "id": "uviRjz96MzOh"
      },
      "outputs": [],
      "source": [
        "model.compile(optimizer='adam',loss='categorical_crossentropy',metrics='accuracy')"
      ]
    },
    {
      "cell_type": "code",
      "execution_count": 32,
      "metadata": {
        "colab": {
          "base_uri": "https://localhost:8080/"
        },
        "id": "QjHCfeUVM3ip",
        "outputId": "1d3e2dff-c1b6-4516-dda8-9f410d235894"
      },
      "outputs": [
        {
          "name": "stdout",
          "output_type": "stream",
          "text": [
            "Epoch 1/10\n",
            "10/10 [==============================] - 412s 41s/step - loss: 2.5034 - accuracy: 0.3458 - val_loss: 1.2826 - val_accuracy: 0.4028\n",
            "Epoch 2/10\n",
            "10/10 [==============================] - 404s 41s/step - loss: 1.2816 - accuracy: 0.5106 - val_loss: 1.1769 - val_accuracy: 0.4167\n",
            "Epoch 3/10\n",
            "10/10 [==============================] - 404s 41s/step - loss: 0.9736 - accuracy: 0.5677 - val_loss: 0.9685 - val_accuracy: 0.5417\n",
            "Epoch 4/10\n",
            "10/10 [==============================] - 406s 41s/step - loss: 0.8988 - accuracy: 0.6052 - val_loss: 1.1884 - val_accuracy: 0.4306\n",
            "Epoch 5/10\n",
            "10/10 [==============================] - 404s 41s/step - loss: 0.8445 - accuracy: 0.6085 - val_loss: 0.9825 - val_accuracy: 0.5278\n",
            "Epoch 6/10\n",
            "10/10 [==============================] - 403s 41s/step - loss: 0.7986 - accuracy: 0.6395 - val_loss: 1.1689 - val_accuracy: 0.4861\n",
            "Epoch 7/10\n",
            "10/10 [==============================] - 408s 41s/step - loss: 0.7543 - accuracy: 0.6558 - val_loss: 1.0752 - val_accuracy: 0.5139\n",
            "Epoch 8/10\n",
            "10/10 [==============================] - 408s 41s/step - loss: 0.7207 - accuracy: 0.6688 - val_loss: 1.0331 - val_accuracy: 0.6250\n",
            "Epoch 9/10\n",
            "10/10 [==============================] - 405s 41s/step - loss: 0.6614 - accuracy: 0.7210 - val_loss: 0.8720 - val_accuracy: 0.6111\n",
            "Epoch 10/10\n",
            "10/10 [==============================] - 410s 41s/step - loss: 0.6463 - accuracy: 0.6998 - val_loss: 0.9241 - val_accuracy: 0.6389\n"
          ]
        }
      ],
      "source": [
        "hist = model.fit(train_dataset,validation_data=valid_dataset,epochs=10)"
      ]
    },
    {
      "cell_type": "code",
      "execution_count": 33,
      "metadata": {
        "colab": {
          "base_uri": "https://localhost:8080/"
        },
        "id": "QX9WUQUehqv2",
        "outputId": "e5874e5d-5899-489d-9fa0-c98bb12c1f7d"
      },
      "outputs": [
        {
          "name": "stdout",
          "output_type": "stream",
          "text": [
            "5/5 [==============================] - 186s 37s/step - loss: 0.9818 - accuracy: 0.6413\n"
          ]
        },
        {
          "data": {
            "text/plain": [
              "[0.9818202257156372, 0.641269862651825]"
            ]
          },
          "execution_count": 33,
          "metadata": {},
          "output_type": "execute_result"
        }
      ],
      "source": [
        "model.evaluate(test_dataset,verbose=1)"
      ]
    }
  ],
  "metadata": {
    "colab": {
      "provenance": []
    },
    "kernelspec": {
      "display_name": "Python 3",
      "language": "python",
      "name": "python3"
    },
    "language_info": {
      "name": "python",
      "version": "3.8.10 (default, Nov 14 2022, 12:59:47) \n[GCC 9.4.0]"
    },
    "vscode": {
      "interpreter": {
        "hash": "916dbcbb3f70747c44a77c7bcd40155683ae19c65e1c03b4aa3499c5328201f1"
      }
    }
  },
  "nbformat": 4,
  "nbformat_minor": 0
}
